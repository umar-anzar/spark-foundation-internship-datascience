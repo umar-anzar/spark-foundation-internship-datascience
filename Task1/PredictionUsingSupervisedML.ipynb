{
 "cells": [
  {
   "cell_type": "markdown",
   "id": "457e93ad",
   "metadata": {},
   "source": [
    "# Linear Regression\n",
    "\n",
    "Author: Muhammad Umar Anzar\n",
    "\n",
    "Linear Regression is a type of supervised learning algorithm used in machine learning and statistics to predict a continuous target variable based on one or more predictor variables. It is a linear approach to modeling the relationship between a dependent variable and one or more independent variables."
   ]
  },
  {
   "cell_type": "markdown",
   "id": "04feae83",
   "metadata": {},
   "source": [
    "## Import Libraries\n",
    "\n",
    "- NumPy: A Python library used for numerical computing. It provides support for multidimensional arrays and matrices, along with functions to perform mathematical operations on them.\n",
    "\n",
    "- Pandas: A library used for data manipulation and analysis. It provides data structures for efficient storage and manipulation of tabular data.\n",
    "\n",
    "- Matplotlib: A plotting library for creating static, interactive, and animated visualizations in Python.\n",
    "\n",
    "- Seaborn: A data visualization library based on Matplotlib.\n",
    "\n",
    "- Scikit-learn: A machine learning library for Python. It provides a range of algorithms for classification, regression, clustering, and dimensionality reduction, along with tools for model selection and evaluation."
   ]
  },
  {
   "cell_type": "code",
   "execution_count": 1,
   "id": "0e35a22f",
   "metadata": {},
   "outputs": [],
   "source": [
    "import numpy as np, pandas as pd, matplotlib.pyplot as plt, seaborn as sns\n",
    "from sklearn.model_selection import train_test_split\n",
    "from sklearn.linear_model import LinearRegression\n",
    "from sklearn.metrics import mean_squared_error, mean_absolute_error, r2_score\n",
    "# allows for displaying plots inline within the notebook\n",
    "%matplotlib inline "
   ]
  },
  {
   "cell_type": "markdown",
   "id": "c8317eb4",
   "metadata": {},
   "source": [
    "## Import Dataset"
   ]
  },
  {
   "cell_type": "code",
   "execution_count": 2,
   "id": "b78f9067",
   "metadata": {},
   "outputs": [
    {
     "data": {
      "text/html": [
       "<div>\n",
       "<style scoped>\n",
       "    .dataframe tbody tr th:only-of-type {\n",
       "        vertical-align: middle;\n",
       "    }\n",
       "\n",
       "    .dataframe tbody tr th {\n",
       "        vertical-align: top;\n",
       "    }\n",
       "\n",
       "    .dataframe thead th {\n",
       "        text-align: right;\n",
       "    }\n",
       "</style>\n",
       "<table border=\"1\" class=\"dataframe\">\n",
       "  <thead>\n",
       "    <tr style=\"text-align: right;\">\n",
       "      <th></th>\n",
       "      <th>Hours</th>\n",
       "      <th>Scores</th>\n",
       "    </tr>\n",
       "  </thead>\n",
       "  <tbody>\n",
       "    <tr>\n",
       "      <th>0</th>\n",
       "      <td>2.5</td>\n",
       "      <td>21</td>\n",
       "    </tr>\n",
       "    <tr>\n",
       "      <th>1</th>\n",
       "      <td>5.1</td>\n",
       "      <td>47</td>\n",
       "    </tr>\n",
       "    <tr>\n",
       "      <th>2</th>\n",
       "      <td>3.2</td>\n",
       "      <td>27</td>\n",
       "    </tr>\n",
       "    <tr>\n",
       "      <th>3</th>\n",
       "      <td>8.5</td>\n",
       "      <td>75</td>\n",
       "    </tr>\n",
       "    <tr>\n",
       "      <th>4</th>\n",
       "      <td>3.5</td>\n",
       "      <td>30</td>\n",
       "    </tr>\n",
       "    <tr>\n",
       "      <th>5</th>\n",
       "      <td>1.5</td>\n",
       "      <td>20</td>\n",
       "    </tr>\n",
       "    <tr>\n",
       "      <th>6</th>\n",
       "      <td>9.2</td>\n",
       "      <td>88</td>\n",
       "    </tr>\n",
       "    <tr>\n",
       "      <th>7</th>\n",
       "      <td>5.5</td>\n",
       "      <td>60</td>\n",
       "    </tr>\n",
       "    <tr>\n",
       "      <th>8</th>\n",
       "      <td>8.3</td>\n",
       "      <td>81</td>\n",
       "    </tr>\n",
       "    <tr>\n",
       "      <th>9</th>\n",
       "      <td>2.7</td>\n",
       "      <td>25</td>\n",
       "    </tr>\n",
       "  </tbody>\n",
       "</table>\n",
       "</div>"
      ],
      "text/plain": [
       "   Hours  Scores\n",
       "0    2.5      21\n",
       "1    5.1      47\n",
       "2    3.2      27\n",
       "3    8.5      75\n",
       "4    3.5      30\n",
       "5    1.5      20\n",
       "6    9.2      88\n",
       "7    5.5      60\n",
       "8    8.3      81\n",
       "9    2.7      25"
      ]
     },
     "execution_count": 2,
     "metadata": {},
     "output_type": "execute_result"
    }
   ],
   "source": [
    "dataset = pd.read_csv('student_scores.csv')\n",
    "dataset.head(10)"
   ]
  },
  {
   "cell_type": "markdown",
   "id": "62ca1022",
   "metadata": {},
   "source": [
    "## Plot 2d Graph\n",
    "By observing the scatter plot graph, it can be inferred that there is a strong relationship between scores and hours, which seems to be directly proportional. As the number of hours increase, the scores also tend to increase."
   ]
  },
  {
   "cell_type": "code",
   "execution_count": 3,
   "id": "e86d0418",
   "metadata": {},
   "outputs": [
    {
     "data": {
      "image/png": "[encoded data removed]",
      "text/plain": [
       "<Figure size 500x400 with 1 Axes>"
      ]
     },
     "metadata": {},
     "output_type": "display_data"
    }
   ],
   "source": [
    "sns.set(rc={'figure.figsize':(5,4)})\n",
    "sns.set_style(\"whitegrid\")\n",
    "\n",
    "sns.scatterplot(x='Hours',y='Scores',data=dataset)\n",
    "plt.show()"
   ]
  },
  {
   "cell_type": "markdown",
   "id": "3852e170",
   "metadata": {},
   "source": [
    "### Best Fit Line \n",
    "Used the regplot function to gain an understanding of the best-fit line on this graph"
   ]
  },
  {
   "cell_type": "code",
   "execution_count": 4,
   "id": "9691ca48",
   "metadata": {},
   "outputs": [
    {
     "data": {
      "image/png": "[encoded data removed]",
      "text/plain": [
       "<Figure size 500x400 with 1 Axes>"
      ]
     },
     "metadata": {},
     "output_type": "display_data"
    }
   ],
   "source": [
    "sns.regplot(x='Hours',y='Scores',data=dataset, line_kws={\"color\": \"red\"})\n",
    "plt.show()"
   ]
  },
  {
   "cell_type": "markdown",
   "id": "b0650331",
   "metadata": {},
   "source": [
    "## Preparing X and Y"
   ]
  },
  {
   "cell_type": "code",
   "execution_count": 5,
   "id": "1197472c",
   "metadata": {},
   "outputs": [],
   "source": [
    "x = dataset.iloc[:,:1].values\n",
    "y = dataset.iloc[:,-1].values"
   ]
  },
  {
   "cell_type": "markdown",
   "id": "2b9e5804",
   "metadata": {},
   "source": [
    "## Predicting Dataset\n",
    "\n",
    "Data is split into two sets: training and testing data. The model is trained on the training data and then used to predict the target value of the test data. The error between the true and predicted target value is then calculated to evaluate the performance of the model."
   ]
  },
  {
   "cell_type": "markdown",
   "id": "76ccb4a3",
   "metadata": {},
   "source": [
    "### Train/Test Split"
   ]
  },
  {
   "cell_type": "code",
   "execution_count": 6,
   "id": "87a8efb7",
   "metadata": {},
   "outputs": [],
   "source": [
    "train_x, test_x, train_y, test_y = train_test_split(x, y, test_size=0.2, random_state = 0)"
   ]
  },
  {
   "cell_type": "code",
   "execution_count": 7,
   "id": "b2d837fa",
   "metadata": {},
   "outputs": [],
   "source": [
    "model = LinearRegression()\n",
    "model.fit(train_x,train_y)\n",
    "m = model.coef_\n",
    "c = model.intercept_\n",
    "Y_axis = m*x + c"
   ]
  },
  {
   "cell_type": "code",
   "execution_count": 8,
   "id": "9925ab3e",
   "metadata": {},
   "outputs": [
    {
     "data": {
      "image/png": "[encoded data removed]",
      "text/plain": [
       "<Figure size 500x400 with 1 Axes>"
      ]
     },
     "metadata": {},
     "output_type": "display_data"
    }
   ],
   "source": [
    "sns.scatterplot(x='Hours',y='Scores',data=dataset)\n",
    "sns.lineplot(x=x.flatten(),y=Y_axis.flatten(), color='red')\n",
    "plt.show()"
   ]
  },
  {
   "cell_type": "markdown",
   "id": "07ecb79b",
   "metadata": {},
   "source": [
    "### Prediction"
   ]
  },
  {
   "cell_type": "code",
   "execution_count": 9,
   "id": "ba444d5a",
   "metadata": {},
   "outputs": [
    {
     "data": {
      "text/plain": [
       "array([16.88414476, 33.73226078, 75.357018  , 26.79480124, 60.49103328])"
      ]
     },
     "execution_count": 9,
     "metadata": {},
     "output_type": "execute_result"
    }
   ],
   "source": [
    "y_pred = model.predict(test_x)\n",
    "y_pred"
   ]
  },
  {
   "cell_type": "markdown",
   "id": "79b6806a",
   "metadata": {},
   "source": [
    "### Evaluation\n",
    "- mean_squared_error: A function from scikit-learn.metrics used to compute the mean squared error between the predicted and actual values.\n",
    "\n",
    "- mean_absolute_error: A function from scikit-learn.metrics used to compute the mean absolute error between the predicted and actual values.\n",
    "\n",
    "- r2_score: A function from scikit-learn.metrics used to compute the R-squared (coefficient of determination) regression score function."
   ]
  },
  {
   "cell_type": "code",
   "execution_count": 10,
   "id": "c3409661",
   "metadata": {},
   "outputs": [
    {
     "name": "stdout",
     "output_type": "stream",
     "text": [
      "mean_squared_error 21.598769307217413 \n",
      " mean_absolute_error 4.18385989900298 \n",
      " r2_score 0.9454906892105355\n"
     ]
    }
   ],
   "source": [
    "print('mean_squared_error', mean_squared_error(test_y, y_pred), '\\n',\n",
    "      'mean_absolute_error', mean_absolute_error(test_y, y_pred), '\\n',\n",
    "      'r2_score', r2_score(test_y, y_pred))"
   ]
  },
  {
   "cell_type": "markdown",
   "id": "c87e77c9",
   "metadata": {},
   "source": [
    "## Cross-Validation \n",
    "\n",
    "Cross-validation is a technique used to evaluate the performance of a machine learning model on unseen data. It is done by splitting the dataset into multiple folds, then training the model on each fold and evaluating it on the remaining folds. This process is repeated multiple times, with each fold used as a test set once. The final performance of the model is then averaged over all the folds.\n",
    "\n",
    "In this case, the dataset is split at a random state different on each iteration. This means that each time the cross-validation process is run, a different set of training and test folds will be created. This helps to ensure that the performance of the model is not simply due to chance."
   ]
  },
  {
   "cell_type": "markdown",
   "id": "7538ab2a",
   "metadata": {},
   "source": [
    "### Error Function\n",
    "This function returns a data frame row containing the error metrics of model evaluation."
   ]
  },
  {
   "cell_type": "code",
   "execution_count": 11,
   "id": "fe62be6d",
   "metadata": {},
   "outputs": [],
   "source": [
    "def error(y_true, y_pred):\n",
    "    mse = mean_squared_error(y_true, y_pred)\n",
    "    mae = mean_absolute_error(y_true, y_pred)\n",
    "    r2 = r2_score(y_true, y_pred)\n",
    "    return {'mean_squared_error':mse, 'mean_absolute_error':mae, 'r2_score':r2}"
   ]
  },
  {
   "cell_type": "code",
   "execution_count": 12,
   "id": "c8aa8ff6",
   "metadata": {},
   "outputs": [
    {
     "data": {
      "text/html": [
       "<div>\n",
       "<style scoped>\n",
       "    .dataframe tbody tr th:only-of-type {\n",
       "        vertical-align: middle;\n",
       "    }\n",
       "\n",
       "    .dataframe tbody tr th {\n",
       "        vertical-align: top;\n",
       "    }\n",
       "\n",
       "    .dataframe thead th {\n",
       "        text-align: right;\n",
       "    }\n",
       "</style>\n",
       "<table border=\"1\" class=\"dataframe\">\n",
       "  <thead>\n",
       "    <tr style=\"text-align: right;\">\n",
       "      <th></th>\n",
       "      <th>random_state</th>\n",
       "      <th>mean_squared_error</th>\n",
       "      <th>mean_absolute_error</th>\n",
       "      <th>r2_score</th>\n",
       "    </tr>\n",
       "  </thead>\n",
       "  <tbody>\n",
       "    <tr>\n",
       "      <th>0</th>\n",
       "      <td>1.0</td>\n",
       "      <td>68.880921</td>\n",
       "      <td>7.882398</td>\n",
       "      <td>0.842103</td>\n",
       "    </tr>\n",
       "    <tr>\n",
       "      <th>1</th>\n",
       "      <td>6.0</td>\n",
       "      <td>18.765475</td>\n",
       "      <td>4.230413</td>\n",
       "      <td>0.972394</td>\n",
       "    </tr>\n",
       "    <tr>\n",
       "      <th>2</th>\n",
       "      <td>11.0</td>\n",
       "      <td>78.660909</td>\n",
       "      <td>8.237073</td>\n",
       "      <td>0.881990</td>\n",
       "    </tr>\n",
       "    <tr>\n",
       "      <th>3</th>\n",
       "      <td>16.0</td>\n",
       "      <td>50.029620</td>\n",
       "      <td>6.682278</td>\n",
       "      <td>0.835299</td>\n",
       "    </tr>\n",
       "    <tr>\n",
       "      <th>4</th>\n",
       "      <td>21.0</td>\n",
       "      <td>30.680774</td>\n",
       "      <td>5.332780</td>\n",
       "      <td>0.884031</td>\n",
       "    </tr>\n",
       "  </tbody>\n",
       "</table>\n",
       "</div>"
      ],
      "text/plain": [
       "   random_state  mean_squared_error  mean_absolute_error  r2_score\n",
       "0           1.0           68.880921             7.882398  0.842103\n",
       "1           6.0           18.765475             4.230413  0.972394\n",
       "2          11.0           78.660909             8.237073  0.881990\n",
       "3          16.0           50.029620             6.682278  0.835299\n",
       "4          21.0           30.680774             5.332780  0.884031"
      ]
     },
     "execution_count": 12,
     "metadata": {},
     "output_type": "execute_result"
    }
   ],
   "source": [
    "errorDf = pd.DataFrame(columns=['random_state', 'mean_squared_error', 'mean_absolute_error', 'r2_score'])\n",
    "\n",
    "model = LinearRegression()\n",
    "for rdmState in range(1,200,5):\n",
    "    train_x, test_x, train_y, test_y = train_test_split(x, y, test_size=0.2, random_state = rdmState)\n",
    "    model.fit(train_x,train_y)\n",
    "    pred_y = model.predict(test_x)\n",
    "    result = error(test_y, pred_y)\n",
    "    result['random_state'] = rdmState\n",
    "    errorDf = errorDf.append(result, ignore_index=True)\n",
    "\n",
    "errorDf.head(5)"
   ]
  },
  {
   "cell_type": "markdown",
   "id": "344e7951",
   "metadata": {},
   "source": [
    "### Plotting Histogram"
   ]
  },
  {
   "cell_type": "code",
   "execution_count": 13,
   "id": "2f850905",
   "metadata": {
    "scrolled": true
   },
   "outputs": [
    {
     "data": {
      "image/png": "[encoded data removed]",
      "text/plain": [
       "<Figure size 1000x300 with 3 Axes>"
      ]
     },
     "metadata": {},
     "output_type": "display_data"
    }
   ],
   "source": [
    "# Create subplots with 1 row and 3 columns\n",
    "fig, axes = plt.subplots(nrows=1, ncols=3, figsize=(10, 3))\n",
    "\n",
    "# Adjust spacing between subplots\n",
    "fig.subplots_adjust(wspace=0.5)\n",
    "\n",
    "# Plot histograms for each column on a separate subplot\n",
    "sns.histplot(data=errorDf, x='mean_squared_error', ax=axes[0])\n",
    "sns.histplot(data=errorDf, x='mean_absolute_error', ax=axes[1])\n",
    "sns.histplot(data=errorDf, x='r2_score', ax=axes[2])\n",
    "plt.show()"
   ]
  },
  {
   "cell_type": "markdown",
   "id": "d1108bfc",
   "metadata": {},
   "source": [
    "## Result\n",
    "Overall, the model is performing well. The MSE and MAE are relatively small, and the R2 score is high. This means that the model is able to accurately predict the true values.\n",
    "\n",
    "- The mean squared error is higher than the mean absolute error. This is because the squared error is more sensitive to outliers than the absolute error.\n",
    "- The R2 score is close to 1. This means that the model is able to explain a large amount of the variance in the true values."
   ]
  },
  {
   "cell_type": "code",
   "execution_count": 14,
   "id": "787575a2",
   "metadata": {
    "scrolled": true
   },
   "outputs": [
    {
     "data": {
      "text/html": [
       "<div>\n",
       "<style scoped>\n",
       "    .dataframe tbody tr th:only-of-type {\n",
       "        vertical-align: middle;\n",
       "    }\n",
       "\n",
       "    .dataframe tbody tr th {\n",
       "        vertical-align: top;\n",
       "    }\n",
       "\n",
       "    .dataframe thead th {\n",
       "        text-align: right;\n",
       "    }\n",
       "</style>\n",
       "<table border=\"1\" class=\"dataframe\">\n",
       "  <thead>\n",
       "    <tr style=\"text-align: right;\">\n",
       "      <th></th>\n",
       "      <th>mean</th>\n",
       "      <th>median</th>\n",
       "    </tr>\n",
       "  </thead>\n",
       "  <tbody>\n",
       "    <tr>\n",
       "      <th>mean_squared_error</th>\n",
       "      <td>37.598356</td>\n",
       "      <td>30.740782</td>\n",
       "    </tr>\n",
       "    <tr>\n",
       "      <th>mean_absolute_error</th>\n",
       "      <td>5.546015</td>\n",
       "      <td>5.288847</td>\n",
       "    </tr>\n",
       "    <tr>\n",
       "      <th>r2_score</th>\n",
       "      <td>0.901040</td>\n",
       "      <td>0.926632</td>\n",
       "    </tr>\n",
       "  </tbody>\n",
       "</table>\n",
       "</div>"
      ],
      "text/plain": [
       "                          mean     median\n",
       "mean_squared_error   37.598356  30.740782\n",
       "mean_absolute_error   5.546015   5.288847\n",
       "r2_score              0.901040   0.926632"
      ]
     },
     "execution_count": 14,
     "metadata": {},
     "output_type": "execute_result"
    }
   ],
   "source": [
    "errorDf.drop('random_state', axis=1).agg(['mean','median']).transpose()"
   ]
  }
 ],
 "metadata": {
  "hide_input": false,
  "kernelspec": {
   "display_name": "Python 3 (ipykernel)",
   "language": "python",
   "name": "python3"
  },
  "language_info": {
   "codemirror_mode": {
    "name": "ipython",
    "version": 3
   },
   "file_extension": ".py",
   "mimetype": "text/x-python",
   "name": "python",
   "nbconvert_exporter": "python",
   "pygments_lexer": "ipython3",
   "version": "3.7.1"
  }
 },
 "nbformat": 4,
 "nbformat_minor": 5
}
